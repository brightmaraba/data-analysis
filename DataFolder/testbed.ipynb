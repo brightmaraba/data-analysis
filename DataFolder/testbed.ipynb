{
 "cells": [
  {
   "cell_type": "code",
   "execution_count": 4,
   "metadata": {},
   "outputs": [],
   "source": [
    "import pandas as pd"
   ]
  },
  {
   "cell_type": "code",
   "execution_count": 8,
   "metadata": {},
   "outputs": [
    {
     "name": "stdout",
     "output_type": "stream",
     "text": [
      "       certificates  Time (in months)  longest_streak  certificates Per Month\n",
      "Tom               8                16              13                    0.50\n",
      "Kris              2                 5              11                    0.40\n",
      "Ahmad             5                 9               9                    0.56\n",
      "Beau              6                12               7                    0.50\n"
     ]
    }
   ],
   "source": [
    "certificates_earned = pd.DataFrame(\n",
    "        {\n",
    "            \"certificates\":[8, 2, 5, 6],\n",
    "            'Time (in months)':[16, 5, 9, 12]\n",
    "        }\n",
    "    )\n",
    "names = ['Tom', 'Kris', 'Ahmad', 'Beau']\n",
    "\n",
    "certificates_earned.index = names\n",
    "longest_streak = pd.Series([13, 11, 9, 7], index=names)\n",
    "certificates_earned['longest_streak'] = longest_streak\n",
    "certificates_earned['certificates Per Month'] = round(certificates_earned['certificates'] / certificates_earned['Time (in months)'], 2)\n",
    "print(certificates_earned)"
   ]
  }
 ],
 "metadata": {
  "kernelspec": {
   "display_name": "data-analysis-JgBQL0Cz",
   "language": "python",
   "name": "python3"
  },
  "language_info": {
   "codemirror_mode": {
    "name": "ipython",
    "version": 3
   },
   "file_extension": ".py",
   "mimetype": "text/x-python",
   "name": "python",
   "nbconvert_exporter": "python",
   "pygments_lexer": "ipython3",
   "version": "3.10.6"
  },
  "orig_nbformat": 4,
  "vscode": {
   "interpreter": {
    "hash": "afc872f57c7a0038599bfbbb02e6d51fc8af766baa73c059a024721e9498040b"
   }
  }
 },
 "nbformat": 4,
 "nbformat_minor": 2
}
