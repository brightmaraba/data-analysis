{
 "cells": [
  {
   "cell_type": "markdown",
   "metadata": {},
   "source": [
    "## Description : Sentiment Analysis of Tweets fetched from Twitter using Python"
   ]
  },
  {
   "cell_type": "markdown",
   "metadata": {},
   "source": []
  },
  {
   "cell_type": "code",
   "execution_count": null,
   "metadata": {},
   "outputs": [],
   "source": [
    "# Import required libraries\n",
    "import tweepy\n",
    "from textblob import TextBlob\n",
    "from wordcloud import WordCloud\n",
    "import pandas as pd\n",
    "import re\n",
    "import matplotlib.pyplot as plt\n",
    "%matplotlib inline\n",
    "pd.set_option('display.max_colwidth', 100)\n",
    "pd.set_option(\"display.max_columns\", None)\n",
    "plt.style.use('fivethirtyeight')\n"
   ]
  },
  {
   "cell_type": "code",
   "execution_count": null,
   "metadata": {},
   "outputs": [],
   "source": [
    "# Load the API keys from the login credential file\n",
    "log_cred = pd.read_csv(\"login_credentials.csv\")\n",
    "consumer_key = log_cred.iloc[0, 1]\n",
    "consumer_secret = log_cred.iloc[1, 1]\n",
    "access_token = log_cred.iloc[2, 1]\n",
    "access_token_secret = log_cred.iloc[3, 1]\n"
   ]
  },
  {
   "cell_type": "code",
   "execution_count": null,
   "metadata": {},
   "outputs": [],
   "source": [
    "# Create the authentication object and the API object\n",
    "auth = tweepy.OAuthHandler(consumer_key, consumer_secret)\n",
    "auth.set_access_token(access_token, access_token_secret)\n",
    "api = tweepy.API(auth, wait_on_rate_limit=True)"
   ]
  },
  {
   "cell_type": "code",
   "execution_count": null,
   "metadata": {},
   "outputs": [],
   "source": [
    "username = input(\"Enter the user's screenname: \")\n",
    "count = int(input(\"Enter the number of tweets to be retrieved: \"))\n",
    "tweets = api.user_timeline(screen_name=username, count=count,tweet_mode=\"extended\")\n",
    "# Not neccessary => Just to show that we have the tweets in the retrieved list\n",
    "i = 1\n",
    "for tweet in tweets[0:5]:\n",
    "    print(f\"{i}. {tweet.full_text}\")\n",
    "    i += 1"
   ]
  },
  {
   "cell_type": "code",
   "execution_count": null,
   "metadata": {},
   "outputs": [],
   "source": [
    "# Create Dataframe of tweets\n",
    "df = pd.DataFrame(data=[tweet.full_text for tweet in tweets], columns=['Tweets'])\n",
    "df.shape"
   ]
  },
  {
   "cell_type": "code",
   "execution_count": null,
   "metadata": {},
   "outputs": [],
   "source": [
    "# Clean Data - Remove special characters, links, and other elements\n",
    "# Create a function to clean the data\n",
    "def clean_tweet(text):\n",
    "    text = re.sub(r'@[A-Za-z0-9]+', '', text) # Remove @mentions\n",
    "    text = re.sub(r'#', '', text) # Remove the # in #hashtag\n",
    "    text = re.sub(r'RT[\\s]+', '', text) # Remove RT (retweet)\n",
    "    text = re.sub(r'https?:\\/\\/\\S+', '', text) # Remove hyperlinks\n",
    "\n",
    "    return text"
   ]
  },
  {
   "cell_type": "code",
   "execution_count": null,
   "metadata": {},
   "outputs": [],
   "source": [
    "# Apply the function to the dataframe\n",
    "df['Tweets'] = df['Tweets'].apply(clean_tweet)\n",
    "# Show cleaned tweets\n",
    "df.head(10)"
   ]
  },
  {
   "cell_type": "code",
   "execution_count": null,
   "metadata": {},
   "outputs": [],
   "source": [
    "# Create subjectivity and polarity then save to dataframe in new columns\n",
    "def get_subjectivity(text):\n",
    "    return TextBlob(text).sentiment.subjectivity\n",
    "\n",
    "def get_polarity(text):\n",
    "    return TextBlob(text).sentiment.polarity\n",
    "\n",
    "df['Subjectivity'] = df['Tweets'].apply(get_subjectivity)\n",
    "df['Polarity'] = df['Tweets'].apply(get_polarity)\n",
    "df.head(10)"
   ]
  },
  {
   "cell_type": "code",
   "execution_count": null,
   "metadata": {},
   "outputs": [],
   "source": [
    "# Wordcloud of the top 100 most used words\n",
    "all_words = ' '.join([text for text in df['Tweets']])\n",
    "\n",
    "fig, ax = plt.subplots(figsize=(30, 40))\n",
    "word_cloud = WordCloud(max_font_size=50, max_words=50, random_state=21).generate(all_words)\n",
    "\n",
    "ax.imshow(word_cloud, interpolation='bilinear')\n",
    "ax.set_title(f'WordCloud of the 20 Most Used Words in Recent Tweets by @{username}', fontsize=40)\n",
    "ax.axis(\"off\")"
   ]
  },
  {
   "cell_type": "code",
   "execution_count": null,
   "metadata": {},
   "outputs": [],
   "source": [
    "# Compute negative, neutral, positive analysis of the tweets\n",
    "def get_analysis(score):\n",
    "    if score < 0:\n",
    "        return 'Negative'\n",
    "    elif score== 0:\n",
    "        return 'Neutral'\n",
    "    else:\n",
    "        return 'Positive'\n",
    "\n",
    "df['Analysis'] = df['Polarity'].apply(get_analysis)\n"
   ]
  },
  {
   "cell_type": "code",
   "execution_count": null,
   "metadata": {},
   "outputs": [],
   "source": [
    "# Plotting the polarity of the tweets\n",
    "ax = df['Analysis'].value_counts().plot(kind='bar', color=['green', 'blue', 'red'], figsize=(10, 8))\n",
    "ax.set_title(f'Analysis of Tweets by @{username}', fontsize=10)"
   ]
  },
  {
   "cell_type": "code",
   "execution_count": null,
   "metadata": {},
   "outputs": [],
   "source": [
    "def get_subjectivity_analysis(score):\n",
    "    if score < 0.5:\n",
    "        return 'Objective'\n",
    "    else:\n",
    "        return 'Subjective'\n",
    "\n",
    "df['SUBJECTIVITY_ANALYSIS'] = df['Subjectivity'].apply(get_subjectivity_analysis)\n",
    "df.head(10)"
   ]
  },
  {
   "cell_type": "code",
   "execution_count": null,
   "metadata": {},
   "outputs": [],
   "source": [
    "# Plotting the polarity of the tweets\n",
    "ax = df['SUBJECTIVITY_ANALYSIS'].value_counts().plot(kind='pie', autopct='%1.1f%%', figsize=(10, 8))\n",
    "ax.set_title(f'Subjectivity Analysis of Tweets by @{username}', fontsize=10)"
   ]
  },
  {
   "cell_type": "code",
   "execution_count": null,
   "metadata": {},
   "outputs": [],
   "source": [
    "# Print all of the positive tweets\n",
    "positive_tweets = df[df['Analysis'] == 'Positive']\n",
    "positive_tweets_count = positive_tweets['Tweets'].count()\n",
    "print(positive_tweets['Tweets'])\n",
    "\n"
   ]
  },
  {
   "cell_type": "code",
   "execution_count": null,
   "metadata": {},
   "outputs": [],
   "source": [
    "# Print top 10 the negative tweets\n",
    "negative_tweets = df[df['Analysis'] == 'Negative']\n",
    "negative_tweets_count = negative_tweets['Tweets'].count()\n",
    "print(positive_tweets['Tweets'])"
   ]
  },
  {
   "cell_type": "code",
   "execution_count": null,
   "metadata": {},
   "outputs": [],
   "source": [
    "# Print top the neutral tweets\n",
    "neutral_tweets = df[df['Analysis'] == 'Neutral']\n",
    "neutral_tweets_count = neutral_tweets['Tweets'].count()\n",
    "print(neutral_tweets['Tweets'])"
   ]
  },
  {
   "cell_type": "code",
   "execution_count": null,
   "metadata": {},
   "outputs": [],
   "source": [
    "# Pie chart of the polarity of the tweets\n",
    "ax = df['Analysis'].value_counts().plot(kind='pie', autopct='%1.1f%%', figsize=(10, 8))\n",
    "ax.set_title(f'% of Positive, Negative and Neutrral Tweets by @{username}', fontsize=10)\n"
   ]
  },
  {
   "cell_type": "code",
   "execution_count": null,
   "metadata": {},
   "outputs": [],
   "source": [
    "# Plot polarity and subjectivity of the tweets\n",
    "ax = df.plot(kind='scatter', x='Polarity', y='Subjectivity', color='blue', figsize=(16,8))\n",
    "ax.title.set_text(f'Sentiment Analysis of @{username} Tweets')"
   ]
  },
  {
   "cell_type": "code",
   "execution_count": null,
   "metadata": {},
   "outputs": [],
   "source": []
  }
 ],
 "metadata": {
  "interpreter": {
   "hash": "a009fb6d19a98b6d3101c608b2a824863ec0c989ecc73547ca15fea459f0d629"
  },
  "kernelspec": {
   "display_name": "Python 3.10.4 ('data_analysis')",
   "language": "python",
   "name": "python3"
  },
  "language_info": {
   "codemirror_mode": {
    "name": "ipython",
    "version": 3
   },
   "file_extension": ".py",
   "mimetype": "text/x-python",
   "name": "python",
   "nbconvert_exporter": "python",
   "pygments_lexer": "ipython3",
   "version": "3.10.4"
  },
  "orig_nbformat": 4
 },
 "nbformat": 4,
 "nbformat_minor": 2
}
