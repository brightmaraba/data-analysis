{
 "cells": [
  {
   "cell_type": "code",
   "execution_count": 2,
   "metadata": {
    "pycharm": {
     "name": "#%%\n"
    }
   },
   "outputs": [],
   "source": [
    "# Import required libraries\n",
    "import numpy as np\n",
    "import pandas as pd\n",
    "import matplotlib.pyplot as plt\n",
    "%matplotlib inline\n"
   ]
  },
  {
   "cell_type": "code",
   "execution_count": 3,
   "metadata": {
    "pycharm": {
     "name": "#%%\n"
    }
   },
   "outputs": [],
   "source": [
    "# Load the data\n",
    "sales = pd.read_csv('data/sales_data.csv', parse_dates=['Date'])"
   ]
  },
  {
   "cell_type": "code",
   "execution_count": 4,
   "metadata": {
    "pycharm": {
     "name": "#%%\n"
    }
   },
   "outputs": [
    {
     "data": {
      "text/html": [
       "<div>\n",
       "<style scoped>\n",
       "    .dataframe tbody tr th:only-of-type {\n",
       "        vertical-align: middle;\n",
       "    }\n",
       "\n",
       "    .dataframe tbody tr th {\n",
       "        vertical-align: top;\n",
       "    }\n",
       "\n",
       "    .dataframe thead th {\n",
       "        text-align: right;\n",
       "    }\n",
       "</style>\n",
       "<table border=\"1\" class=\"dataframe\">\n",
       "  <thead>\n",
       "    <tr style=\"text-align: right;\">\n",
       "      <th></th>\n",
       "      <th>Date</th>\n",
       "      <th>Day</th>\n",
       "      <th>Month</th>\n",
       "      <th>Year</th>\n",
       "      <th>Customer_Age</th>\n",
       "      <th>Age_Group</th>\n",
       "      <th>Customer_Gender</th>\n",
       "      <th>Country</th>\n",
       "      <th>State</th>\n",
       "      <th>Product_Category</th>\n",
       "      <th>Sub_Category</th>\n",
       "      <th>Product</th>\n",
       "      <th>Order_Quantity</th>\n",
       "      <th>Unit_Cost</th>\n",
       "      <th>Unit_Price</th>\n",
       "      <th>Profit</th>\n",
       "      <th>Cost</th>\n",
       "      <th>Revenue</th>\n",
       "    </tr>\n",
       "  </thead>\n",
       "  <tbody>\n",
       "    <tr>\n",
       "      <th>0</th>\n",
       "      <td>2013-11-26</td>\n",
       "      <td>26</td>\n",
       "      <td>November</td>\n",
       "      <td>2013</td>\n",
       "      <td>19</td>\n",
       "      <td>Youth (&lt;25)</td>\n",
       "      <td>M</td>\n",
       "      <td>Canada</td>\n",
       "      <td>British Columbia</td>\n",
       "      <td>Accessories</td>\n",
       "      <td>Bike Racks</td>\n",
       "      <td>Hitch Rack - 4-Bike</td>\n",
       "      <td>8</td>\n",
       "      <td>45</td>\n",
       "      <td>120</td>\n",
       "      <td>590</td>\n",
       "      <td>360</td>\n",
       "      <td>950</td>\n",
       "    </tr>\n",
       "    <tr>\n",
       "      <th>1</th>\n",
       "      <td>2015-11-26</td>\n",
       "      <td>26</td>\n",
       "      <td>November</td>\n",
       "      <td>2015</td>\n",
       "      <td>19</td>\n",
       "      <td>Youth (&lt;25)</td>\n",
       "      <td>M</td>\n",
       "      <td>Canada</td>\n",
       "      <td>British Columbia</td>\n",
       "      <td>Accessories</td>\n",
       "      <td>Bike Racks</td>\n",
       "      <td>Hitch Rack - 4-Bike</td>\n",
       "      <td>8</td>\n",
       "      <td>45</td>\n",
       "      <td>120</td>\n",
       "      <td>590</td>\n",
       "      <td>360</td>\n",
       "      <td>950</td>\n",
       "    </tr>\n",
       "    <tr>\n",
       "      <th>2</th>\n",
       "      <td>2014-03-23</td>\n",
       "      <td>23</td>\n",
       "      <td>March</td>\n",
       "      <td>2014</td>\n",
       "      <td>49</td>\n",
       "      <td>Adults (35-64)</td>\n",
       "      <td>M</td>\n",
       "      <td>Australia</td>\n",
       "      <td>New South Wales</td>\n",
       "      <td>Accessories</td>\n",
       "      <td>Bike Racks</td>\n",
       "      <td>Hitch Rack - 4-Bike</td>\n",
       "      <td>23</td>\n",
       "      <td>45</td>\n",
       "      <td>120</td>\n",
       "      <td>1366</td>\n",
       "      <td>1035</td>\n",
       "      <td>2401</td>\n",
       "    </tr>\n",
       "    <tr>\n",
       "      <th>3</th>\n",
       "      <td>2016-03-23</td>\n",
       "      <td>23</td>\n",
       "      <td>March</td>\n",
       "      <td>2016</td>\n",
       "      <td>49</td>\n",
       "      <td>Adults (35-64)</td>\n",
       "      <td>M</td>\n",
       "      <td>Australia</td>\n",
       "      <td>New South Wales</td>\n",
       "      <td>Accessories</td>\n",
       "      <td>Bike Racks</td>\n",
       "      <td>Hitch Rack - 4-Bike</td>\n",
       "      <td>20</td>\n",
       "      <td>45</td>\n",
       "      <td>120</td>\n",
       "      <td>1188</td>\n",
       "      <td>900</td>\n",
       "      <td>2088</td>\n",
       "    </tr>\n",
       "    <tr>\n",
       "      <th>4</th>\n",
       "      <td>2014-05-15</td>\n",
       "      <td>15</td>\n",
       "      <td>May</td>\n",
       "      <td>2014</td>\n",
       "      <td>47</td>\n",
       "      <td>Adults (35-64)</td>\n",
       "      <td>F</td>\n",
       "      <td>Australia</td>\n",
       "      <td>New South Wales</td>\n",
       "      <td>Accessories</td>\n",
       "      <td>Bike Racks</td>\n",
       "      <td>Hitch Rack - 4-Bike</td>\n",
       "      <td>4</td>\n",
       "      <td>45</td>\n",
       "      <td>120</td>\n",
       "      <td>238</td>\n",
       "      <td>180</td>\n",
       "      <td>418</td>\n",
       "    </tr>\n",
       "  </tbody>\n",
       "</table>\n",
       "</div>"
      ],
      "text/plain": [
       "        Date  Day     Month  Year  Customer_Age       Age_Group  \\\n",
       "0 2013-11-26   26  November  2013            19     Youth (<25)   \n",
       "1 2015-11-26   26  November  2015            19     Youth (<25)   \n",
       "2 2014-03-23   23     March  2014            49  Adults (35-64)   \n",
       "3 2016-03-23   23     March  2016            49  Adults (35-64)   \n",
       "4 2014-05-15   15       May  2014            47  Adults (35-64)   \n",
       "\n",
       "  Customer_Gender    Country             State Product_Category Sub_Category  \\\n",
       "0               M     Canada  British Columbia      Accessories   Bike Racks   \n",
       "1               M     Canada  British Columbia      Accessories   Bike Racks   \n",
       "2               M  Australia   New South Wales      Accessories   Bike Racks   \n",
       "3               M  Australia   New South Wales      Accessories   Bike Racks   \n",
       "4               F  Australia   New South Wales      Accessories   Bike Racks   \n",
       "\n",
       "               Product  Order_Quantity  Unit_Cost  Unit_Price  Profit  Cost  \\\n",
       "0  Hitch Rack - 4-Bike               8         45         120     590   360   \n",
       "1  Hitch Rack - 4-Bike               8         45         120     590   360   \n",
       "2  Hitch Rack - 4-Bike              23         45         120    1366  1035   \n",
       "3  Hitch Rack - 4-Bike              20         45         120    1188   900   \n",
       "4  Hitch Rack - 4-Bike               4         45         120     238   180   \n",
       "\n",
       "   Revenue  \n",
       "0      950  \n",
       "1      950  \n",
       "2     2401  \n",
       "3     2088  \n",
       "4      418  "
      ]
     },
     "execution_count": 4,
     "metadata": {},
     "output_type": "execute_result"
    }
   ],
   "source": [
    "sales.head()"
   ]
  },
  {
   "cell_type": "code",
   "execution_count": 5,
   "metadata": {
    "pycharm": {
     "name": "#%%\n"
    }
   },
   "outputs": [
    {
     "name": "stdout",
     "output_type": "stream",
     "text": [
      "Mean of customer's age: 35.91921157861212\n"
     ]
    }
   ],
   "source": [
    "# Mean of customer's age\n",
    "\n",
    "mean = sales['Customer_Age'].mean()\n",
    "print(f'Mean of customer\\'s age: {mean}')\n"
   ]
  },
  {
   "cell_type": "code",
   "execution_count": 6,
   "metadata": {
    "pycharm": {
     "name": "#%%\n"
    }
   },
   "outputs": [
    {
     "ename": "ModuleNotFoundError",
     "evalue": "No module named 'scipy'",
     "output_type": "error",
     "traceback": [
      "\u001B[0;31m---------------------------------------------------------------------------\u001B[0m",
      "\u001B[0;31mModuleNotFoundError\u001B[0m                       Traceback (most recent call last)",
      "\u001B[1;32m/home/brightkoech/Projects/data-analysis/bike_sales.ipynb Cell 5'\u001B[0m in \u001B[0;36m<cell line: 2>\u001B[0;34m()\u001B[0m\n\u001B[1;32m      <a href='vscode-notebook-cell://wsl%2Bubuntu-20.04/home/brightkoech/Projects/data-analysis/bike_sales.ipynb#ch0000004vscode-remote?line=0'>1</a>\u001B[0m \u001B[39m# Plot Customer Age Density and box plot\u001B[39;00m\n\u001B[0;32m----> <a href='vscode-notebook-cell://wsl%2Bubuntu-20.04/home/brightkoech/Projects/data-analysis/bike_sales.ipynb#ch0000004vscode-remote?line=1'>2</a>\u001B[0m sales[\u001B[39m'\u001B[39;49m\u001B[39mCustomer_Age\u001B[39;49m\u001B[39m'\u001B[39;49m]\u001B[39m.\u001B[39;49mplot(kind\u001B[39m=\u001B[39;49m\u001B[39m'\u001B[39;49m\u001B[39mkde\u001B[39;49m\u001B[39m'\u001B[39;49m, figsize\u001B[39m=\u001B[39;49m(\u001B[39m10\u001B[39;49m,\u001B[39m5\u001B[39;49m))\n",
      "File \u001B[0;32m~/miniconda3/envs/data-analysis/lib/python3.9/site-packages/pandas/plotting/_core.py:972\u001B[0m, in \u001B[0;36mPlotAccessor.__call__\u001B[0;34m(self, *args, **kwargs)\u001B[0m\n\u001B[1;32m    <a href='file:///home/brightkoech/miniconda3/envs/data-analysis/lib/python3.9/site-packages/pandas/plotting/_core.py?line=968'>969</a>\u001B[0m             label_name \u001B[39m=\u001B[39m label_kw \u001B[39mor\u001B[39;00m data\u001B[39m.\u001B[39mcolumns\n\u001B[1;32m    <a href='file:///home/brightkoech/miniconda3/envs/data-analysis/lib/python3.9/site-packages/pandas/plotting/_core.py?line=969'>970</a>\u001B[0m             data\u001B[39m.\u001B[39mcolumns \u001B[39m=\u001B[39m label_name\n\u001B[0;32m--> <a href='file:///home/brightkoech/miniconda3/envs/data-analysis/lib/python3.9/site-packages/pandas/plotting/_core.py?line=971'>972</a>\u001B[0m \u001B[39mreturn\u001B[39;00m plot_backend\u001B[39m.\u001B[39;49mplot(data, kind\u001B[39m=\u001B[39;49mkind, \u001B[39m*\u001B[39;49m\u001B[39m*\u001B[39;49mkwargs)\n",
      "File \u001B[0;32m~/miniconda3/envs/data-analysis/lib/python3.9/site-packages/pandas/plotting/_matplotlib/__init__.py:71\u001B[0m, in \u001B[0;36mplot\u001B[0;34m(data, kind, **kwargs)\u001B[0m\n\u001B[1;32m     <a href='file:///home/brightkoech/miniconda3/envs/data-analysis/lib/python3.9/site-packages/pandas/plotting/_matplotlib/__init__.py?line=68'>69</a>\u001B[0m         kwargs[\u001B[39m\"\u001B[39m\u001B[39max\u001B[39m\u001B[39m\"\u001B[39m] \u001B[39m=\u001B[39m \u001B[39mgetattr\u001B[39m(ax, \u001B[39m\"\u001B[39m\u001B[39mleft_ax\u001B[39m\u001B[39m\"\u001B[39m, ax)\n\u001B[1;32m     <a href='file:///home/brightkoech/miniconda3/envs/data-analysis/lib/python3.9/site-packages/pandas/plotting/_matplotlib/__init__.py?line=69'>70</a>\u001B[0m plot_obj \u001B[39m=\u001B[39m PLOT_CLASSES[kind](data, \u001B[39m*\u001B[39m\u001B[39m*\u001B[39mkwargs)\n\u001B[0;32m---> <a href='file:///home/brightkoech/miniconda3/envs/data-analysis/lib/python3.9/site-packages/pandas/plotting/_matplotlib/__init__.py?line=70'>71</a>\u001B[0m plot_obj\u001B[39m.\u001B[39;49mgenerate()\n\u001B[1;32m     <a href='file:///home/brightkoech/miniconda3/envs/data-analysis/lib/python3.9/site-packages/pandas/plotting/_matplotlib/__init__.py?line=71'>72</a>\u001B[0m plot_obj\u001B[39m.\u001B[39mdraw()\n\u001B[1;32m     <a href='file:///home/brightkoech/miniconda3/envs/data-analysis/lib/python3.9/site-packages/pandas/plotting/_matplotlib/__init__.py?line=72'>73</a>\u001B[0m \u001B[39mreturn\u001B[39;00m plot_obj\u001B[39m.\u001B[39mresult\n",
      "File \u001B[0;32m~/miniconda3/envs/data-analysis/lib/python3.9/site-packages/pandas/plotting/_matplotlib/core.py:329\u001B[0m, in \u001B[0;36mMPLPlot.generate\u001B[0;34m(self)\u001B[0m\n\u001B[1;32m    <a href='file:///home/brightkoech/miniconda3/envs/data-analysis/lib/python3.9/site-packages/pandas/plotting/_matplotlib/core.py?line=326'>327</a>\u001B[0m \u001B[39mself\u001B[39m\u001B[39m.\u001B[39m_compute_plot_data()\n\u001B[1;32m    <a href='file:///home/brightkoech/miniconda3/envs/data-analysis/lib/python3.9/site-packages/pandas/plotting/_matplotlib/core.py?line=327'>328</a>\u001B[0m \u001B[39mself\u001B[39m\u001B[39m.\u001B[39m_setup_subplots()\n\u001B[0;32m--> <a href='file:///home/brightkoech/miniconda3/envs/data-analysis/lib/python3.9/site-packages/pandas/plotting/_matplotlib/core.py?line=328'>329</a>\u001B[0m \u001B[39mself\u001B[39;49m\u001B[39m.\u001B[39;49m_make_plot()\n\u001B[1;32m    <a href='file:///home/brightkoech/miniconda3/envs/data-analysis/lib/python3.9/site-packages/pandas/plotting/_matplotlib/core.py?line=329'>330</a>\u001B[0m \u001B[39mself\u001B[39m\u001B[39m.\u001B[39m_add_table()\n\u001B[1;32m    <a href='file:///home/brightkoech/miniconda3/envs/data-analysis/lib/python3.9/site-packages/pandas/plotting/_matplotlib/core.py?line=330'>331</a>\u001B[0m \u001B[39mself\u001B[39m\u001B[39m.\u001B[39m_make_legend()\n",
      "File \u001B[0;32m~/miniconda3/envs/data-analysis/lib/python3.9/site-packages/pandas/plotting/_matplotlib/hist.py:140\u001B[0m, in \u001B[0;36mHistPlot._make_plot\u001B[0;34m(self)\u001B[0m\n\u001B[1;32m    <a href='file:///home/brightkoech/miniconda3/envs/data-analysis/lib/python3.9/site-packages/pandas/plotting/_matplotlib/hist.py?line=136'>137</a>\u001B[0m \u001B[39mif\u001B[39;00m weights \u001B[39mis\u001B[39;00m \u001B[39mnot\u001B[39;00m \u001B[39mNone\u001B[39;00m \u001B[39mand\u001B[39;00m np\u001B[39m.\u001B[39mndim(weights) \u001B[39m!=\u001B[39m \u001B[39m1\u001B[39m:\n\u001B[1;32m    <a href='file:///home/brightkoech/miniconda3/envs/data-analysis/lib/python3.9/site-packages/pandas/plotting/_matplotlib/hist.py?line=137'>138</a>\u001B[0m     kwds[\u001B[39m\"\u001B[39m\u001B[39mweights\u001B[39m\u001B[39m\"\u001B[39m] \u001B[39m=\u001B[39m weights[:, i]\n\u001B[0;32m--> <a href='file:///home/brightkoech/miniconda3/envs/data-analysis/lib/python3.9/site-packages/pandas/plotting/_matplotlib/hist.py?line=139'>140</a>\u001B[0m artists \u001B[39m=\u001B[39m \u001B[39mself\u001B[39;49m\u001B[39m.\u001B[39;49m_plot(ax, y, column_num\u001B[39m=\u001B[39;49mi, stacking_id\u001B[39m=\u001B[39;49mstacking_id, \u001B[39m*\u001B[39;49m\u001B[39m*\u001B[39;49mkwds)\n\u001B[1;32m    <a href='file:///home/brightkoech/miniconda3/envs/data-analysis/lib/python3.9/site-packages/pandas/plotting/_matplotlib/hist.py?line=141'>142</a>\u001B[0m \u001B[39m# when by is applied, show title for subplots to know which group it is\u001B[39;00m\n\u001B[1;32m    <a href='file:///home/brightkoech/miniconda3/envs/data-analysis/lib/python3.9/site-packages/pandas/plotting/_matplotlib/hist.py?line=142'>143</a>\u001B[0m \u001B[39mif\u001B[39;00m \u001B[39mself\u001B[39m\u001B[39m.\u001B[39mby \u001B[39mis\u001B[39;00m \u001B[39mnot\u001B[39;00m \u001B[39mNone\u001B[39;00m:\n",
      "File \u001B[0;32m~/miniconda3/envs/data-analysis/lib/python3.9/site-packages/pandas/plotting/_matplotlib/hist.py:213\u001B[0m, in \u001B[0;36mKdePlot._plot\u001B[0;34m(cls, ax, y, style, bw_method, ind, column_num, stacking_id, **kwds)\u001B[0m\n\u001B[1;32m    <a href='file:///home/brightkoech/miniconda3/envs/data-analysis/lib/python3.9/site-packages/pandas/plotting/_matplotlib/hist.py?line=200'>201</a>\u001B[0m \u001B[39m@classmethod\u001B[39m\n\u001B[1;32m    <a href='file:///home/brightkoech/miniconda3/envs/data-analysis/lib/python3.9/site-packages/pandas/plotting/_matplotlib/hist.py?line=201'>202</a>\u001B[0m \u001B[39mdef\u001B[39;00m \u001B[39m_plot\u001B[39m(\n\u001B[1;32m    <a href='file:///home/brightkoech/miniconda3/envs/data-analysis/lib/python3.9/site-packages/pandas/plotting/_matplotlib/hist.py?line=202'>203</a>\u001B[0m     \u001B[39mcls\u001B[39m,\n\u001B[0;32m   (...)\u001B[0m\n\u001B[1;32m    <a href='file:///home/brightkoech/miniconda3/envs/data-analysis/lib/python3.9/site-packages/pandas/plotting/_matplotlib/hist.py?line=210'>211</a>\u001B[0m     \u001B[39m*\u001B[39m\u001B[39m*\u001B[39mkwds,\n\u001B[1;32m    <a href='file:///home/brightkoech/miniconda3/envs/data-analysis/lib/python3.9/site-packages/pandas/plotting/_matplotlib/hist.py?line=211'>212</a>\u001B[0m ):\n\u001B[0;32m--> <a href='file:///home/brightkoech/miniconda3/envs/data-analysis/lib/python3.9/site-packages/pandas/plotting/_matplotlib/hist.py?line=212'>213</a>\u001B[0m     \u001B[39mfrom\u001B[39;00m \u001B[39mscipy\u001B[39;00m\u001B[39m.\u001B[39;00m\u001B[39mstats\u001B[39;00m \u001B[39mimport\u001B[39;00m gaussian_kde\n\u001B[1;32m    <a href='file:///home/brightkoech/miniconda3/envs/data-analysis/lib/python3.9/site-packages/pandas/plotting/_matplotlib/hist.py?line=214'>215</a>\u001B[0m     y \u001B[39m=\u001B[39m remove_na_arraylike(y)\n\u001B[1;32m    <a href='file:///home/brightkoech/miniconda3/envs/data-analysis/lib/python3.9/site-packages/pandas/plotting/_matplotlib/hist.py?line=215'>216</a>\u001B[0m     gkde \u001B[39m=\u001B[39m gaussian_kde(y, bw_method\u001B[39m=\u001B[39mbw_method)\n",
      "\u001B[0;31mModuleNotFoundError\u001B[0m: No module named 'scipy'"
     ]
    },
    {
     "data": {
      "image/png": "[encoded data removed]",
      "text/plain": [
       "<Figure size 720x360 with 1 Axes>"
      ]
     },
     "metadata": {
      "needs_background": "light"
     },
     "output_type": "display_data"
    }
   ],
   "source": [
    "# Plot Customer Age Density and box plot\n",
    "sales['Customer_Age'].plot(kind='kde', figsize=(10,5))"
   ]
  }
 ],
 "metadata": {
  "interpreter": {
   "hash": "06ffcce3de129bfea0dd90c64d8f04e9a84de8b2bc5ba9e0c4517cc0fc337d07"
  },
  "kernelspec": {
   "display_name": "Python 3.9.12 ('data-analysis')",
   "language": "python",
   "name": "python3"
  },
  "language_info": {
   "codemirror_mode": {
    "name": "ipython",
    "version": 3
   },
   "file_extension": ".py",
   "mimetype": "text/x-python",
   "name": "python",
   "nbconvert_exporter": "python",
   "pygments_lexer": "ipython3",
   "version": "3.9.12"
  },
  "orig_nbformat": 4
 },
 "nbformat": 4,
 "nbformat_minor": 2
}